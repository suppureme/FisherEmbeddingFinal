{
 "cells": [
  {
   "cell_type": "code",
   "execution_count": 1,
   "outputs": [],
   "source": [
    "%matplotlib inline\n",
    "import numpy as np\n",
    "import pandas as pd\n",
    "import yfinance as yf\n",
    "from helper_functions import *\n",
    "from datetime import date, datetime\n",
    "\n",
    "import matplotlib.pyplot as plt\n",
    "plt.rcParams[\"figure.figsize\"] = (15,5)\n",
    "plt.rcParams['axes.grid'] = False\n",
    "import seaborn as sns\n",
    "sns.set_style(\"whitegrid\", {'axes.grid' : False})\n",
    "import warnings\n",
    "warnings.filterwarnings('ignore')\n",
    "\n",
    "from pandas.plotting import register_matplotlib_converters\n",
    "register_matplotlib_converters()\n",
    "import yfinance as yf\n",
    "\n",
    "from sklearn.metrics import normalized_mutual_info_score\n",
    "from MCMC.MCMC import MCMC\n",
    "\n",
    "import eikon as ek\n",
    "ek.set_app_key('9a249e0411184cf49e553b61a6e76c52d295ec17')"
   ],
   "metadata": {
    "collapsed": false,
    "pycharm": {
     "name": "#%%\n"
    }
   }
  },
  {
   "cell_type": "code",
   "execution_count": 2,
   "outputs": [],
   "source": [
    "%load_ext autoreload\n",
    "%autoreload 2"
   ],
   "metadata": {
    "collapsed": false,
    "pycharm": {
     "name": "#%%\n"
    }
   }
  },
  {
   "cell_type": "code",
   "execution_count": 16,
   "outputs": [],
   "source": [
    "#tickers = niftydata()\n",
    "index = \".NDX\"\n",
    "constituents = get_constituents(index)\n",
    "constituents_all = []\n",
    "for i in range(len(constituents)):\n",
    "    constituents_all = constituents_all+constituents.iloc[i][0]\n",
    "tickers = list(set(constituents_all))\n",
    "#tickers = [ticker[:-3] for ticker in tickers ]   #use with investpy\n"
   ],
   "metadata": {
    "collapsed": false,
    "pycharm": {
     "name": "#%%\n"
    }
   }
  },
  {
   "cell_type": "code",
   "execution_count": 67,
   "outputs": [],
   "source": [
    "recalibrating_months = 1\n",
    "top_nassets = 10\n",
    "training_period = 24 #24/48/96\n",
    "dates_recalibrating = valid_dates(pd.date_range(start=\"2007-01-01\", end=\"2024-06-15\", freq=f'{recalibrating_months}M'))\n",
    "data_inp = prepare_portfolio_data(tickers, recalibrating_months,\"reuters\")\n"
   ],
   "metadata": {
    "collapsed": false,
    "pycharm": {
     "name": "#%%\n"
    }
   }
  },
  {
   "cell_type": "code",
   "execution_count": 68,
   "outputs": [
    {
     "ename": "ValueError",
     "evalue": "`bins[0]` must be positive, when an integer",
     "output_type": "error",
     "traceback": [
      "\u001B[1;31m---------------------------------------------------------------------------\u001B[0m",
      "\u001B[1;31mRemoteTraceback\u001B[0m                           Traceback (most recent call last)",
      "\u001B[1;31mRemoteTraceback\u001B[0m: \n\"\"\"\nTraceback (most recent call last):\n  File \"C:\\Users\\suprabhashsahu\\AppData\\Local\\Programs\\Python\\Python39\\lib\\multiprocessing\\pool.py\", line 125, in worker\n    result = (True, func(*args, **kwds))\n  File \"C:\\Users\\suprabhashsahu\\AppData\\Local\\Programs\\Python\\Python39\\lib\\multiprocessing\\pool.py\", line 48, in mapstar\n    return list(map(*args))\n  File \"C:\\Users\\suprabhashsahu\\Desktop\\FisherEmbeddingFinal\\helper_functions.py\", line 875, in recalibrate_weights_stocks\n    rs = mc.optimize()\n  File \"C:\\Users\\suprabhashsahu\\Desktop\\FisherEmbeddingFinal\\MCMC\\MCMC.py\", line 147, in optimize\n    [ prev_params, prev_nmi] = self.do_step( 0, prev_params, -1 )\n  File \"C:\\Users\\suprabhashsahu\\Desktop\\FisherEmbeddingFinal\\MCMC\\MCMC.py\", line 116, in do_step\n    next_nmi = self.optimize_fn( X , Y, round( len( X )/5 ) )\n  File \"C:\\Users\\suprabhashsahu\\Desktop\\FisherEmbeddingFinal\\MCMC\\MCMC.py\", line 89, in nmi\n    c_XY = np.histogram2d(X, Y, bins)[0]\n  File \"<__array_function__ internals>\", line 5, in histogram2d\n  File \"C:\\Users\\suprabhashsahu\\Desktop\\FisherEmbeddingFinal\\venv\\lib\\site-packages\\numpy\\lib\\twodim_base.py\", line 751, in histogram2d\n    hist, edges = histogramdd([x, y], bins, range, normed, weights, density)\n  File \"<__array_function__ internals>\", line 5, in histogramdd\n  File \"C:\\Users\\suprabhashsahu\\Desktop\\FisherEmbeddingFinal\\venv\\lib\\site-packages\\numpy\\lib\\histograms.py\", line 1048, in histogramdd\n    raise ValueError(\nValueError: `bins[0]` must be positive, when an integer\n\"\"\"",
      "\nThe above exception was the direct cause of the following exception:\n",
      "\u001B[1;31mValueError\u001B[0m                                Traceback (most recent call last)",
      "\u001B[1;32mC:\\Users\\SUPRAB~1\\AppData\\Local\\Temp/ipykernel_9540/2358479926.py\u001B[0m in \u001B[0;36m<module>\u001B[1;34m\u001B[0m\n\u001B[1;32m----> 1\u001B[1;33m \u001B[0massets\u001B[0m \u001B[1;33m=\u001B[0m \u001B[0mget_weights_stocks\u001B[0m\u001B[1;33m(\u001B[0m\u001B[0mconstituents\u001B[0m\u001B[1;33m,\u001B[0m \u001B[0mtop_nassets\u001B[0m\u001B[1;33m,\u001B[0m \u001B[0mrecalibrating_months\u001B[0m\u001B[1;33m,\u001B[0m \u001B[0mtraining_period\u001B[0m\u001B[1;33m,\u001B[0m \u001B[0mdates_recalibrating\u001B[0m\u001B[1;33m,\u001B[0m \u001B[0mdata_inp\u001B[0m\u001B[1;33m,\u001B[0m \u001B[0msave\u001B[0m\u001B[1;33m=\u001B[0m\u001B[1;32mFalse\u001B[0m\u001B[1;33m)\u001B[0m\u001B[1;33m\u001B[0m\u001B[1;33m\u001B[0m\u001B[0m\n\u001B[0m\u001B[0;32m      2\u001B[0m \u001B[1;33m\u001B[0m\u001B[0m\n",
      "\u001B[1;32m~\\Desktop\\FisherEmbeddingFinal\\helper_functions.py\u001B[0m in \u001B[0;36mget_weights_stocks\u001B[1;34m(constituents, topn, test_monthsf, train_monthsf, datesf, temp_ogf, save)\u001B[0m\n\u001B[0;32m    778\u001B[0m     \u001B[1;32mtry\u001B[0m\u001B[1;33m:\u001B[0m\u001B[1;33m\u001B[0m\u001B[1;33m\u001B[0m\u001B[0m\n\u001B[0;32m    779\u001B[0m         \u001B[0mpool\u001B[0m \u001B[1;33m=\u001B[0m \u001B[0mmultiprocessing\u001B[0m\u001B[1;33m.\u001B[0m\u001B[0mPool\u001B[0m\u001B[1;33m(\u001B[0m\u001B[0mprocesses\u001B[0m\u001B[1;33m=\u001B[0m\u001B[1;36m7\u001B[0m\u001B[1;33m,\u001B[0m \u001B[0mmaxtasksperchild\u001B[0m\u001B[1;33m=\u001B[0m\u001B[1;36m1\u001B[0m\u001B[1;33m)\u001B[0m\u001B[1;33m\u001B[0m\u001B[1;33m\u001B[0m\u001B[0m\n\u001B[1;32m--> 780\u001B[1;33m         \u001B[0mresults\u001B[0m \u001B[1;33m=\u001B[0m \u001B[0mpool\u001B[0m\u001B[1;33m.\u001B[0m\u001B[0mmap\u001B[0m\u001B[1;33m(\u001B[0m\u001B[0mrecalibrate_weights_stocks\u001B[0m\u001B[1;33m,\u001B[0m \u001B[0minputs\u001B[0m\u001B[1;33m)\u001B[0m\u001B[1;33m\u001B[0m\u001B[1;33m\u001B[0m\u001B[0m\n\u001B[0m\u001B[0;32m    781\u001B[0m     \u001B[1;32mfinally\u001B[0m\u001B[1;33m:\u001B[0m  \u001B[1;31m# To make sure processes are closed in the end, even if errors happen\u001B[0m\u001B[1;33m\u001B[0m\u001B[1;33m\u001B[0m\u001B[0m\n\u001B[0;32m    782\u001B[0m         \u001B[0mpool\u001B[0m\u001B[1;33m.\u001B[0m\u001B[0mclose\u001B[0m\u001B[1;33m(\u001B[0m\u001B[1;33m)\u001B[0m\u001B[1;33m\u001B[0m\u001B[1;33m\u001B[0m\u001B[0m\n",
      "\u001B[1;32m~\\AppData\\Local\\Programs\\Python\\Python39\\lib\\multiprocessing\\pool.py\u001B[0m in \u001B[0;36mmap\u001B[1;34m(self, func, iterable, chunksize)\u001B[0m\n\u001B[0;32m    362\u001B[0m         \u001B[1;32min\u001B[0m \u001B[0ma\u001B[0m \u001B[0mlist\u001B[0m \u001B[0mthat\u001B[0m \u001B[1;32mis\u001B[0m \u001B[0mreturned\u001B[0m\u001B[1;33m.\u001B[0m\u001B[1;33m\u001B[0m\u001B[1;33m\u001B[0m\u001B[0m\n\u001B[0;32m    363\u001B[0m         '''\n\u001B[1;32m--> 364\u001B[1;33m         \u001B[1;32mreturn\u001B[0m \u001B[0mself\u001B[0m\u001B[1;33m.\u001B[0m\u001B[0m_map_async\u001B[0m\u001B[1;33m(\u001B[0m\u001B[0mfunc\u001B[0m\u001B[1;33m,\u001B[0m \u001B[0miterable\u001B[0m\u001B[1;33m,\u001B[0m \u001B[0mmapstar\u001B[0m\u001B[1;33m,\u001B[0m \u001B[0mchunksize\u001B[0m\u001B[1;33m)\u001B[0m\u001B[1;33m.\u001B[0m\u001B[0mget\u001B[0m\u001B[1;33m(\u001B[0m\u001B[1;33m)\u001B[0m\u001B[1;33m\u001B[0m\u001B[1;33m\u001B[0m\u001B[0m\n\u001B[0m\u001B[0;32m    365\u001B[0m \u001B[1;33m\u001B[0m\u001B[0m\n\u001B[0;32m    366\u001B[0m     \u001B[1;32mdef\u001B[0m \u001B[0mstarmap\u001B[0m\u001B[1;33m(\u001B[0m\u001B[0mself\u001B[0m\u001B[1;33m,\u001B[0m \u001B[0mfunc\u001B[0m\u001B[1;33m,\u001B[0m \u001B[0miterable\u001B[0m\u001B[1;33m,\u001B[0m \u001B[0mchunksize\u001B[0m\u001B[1;33m=\u001B[0m\u001B[1;32mNone\u001B[0m\u001B[1;33m)\u001B[0m\u001B[1;33m:\u001B[0m\u001B[1;33m\u001B[0m\u001B[1;33m\u001B[0m\u001B[0m\n",
      "\u001B[1;32m~\\AppData\\Local\\Programs\\Python\\Python39\\lib\\multiprocessing\\pool.py\u001B[0m in \u001B[0;36mget\u001B[1;34m(self, timeout)\u001B[0m\n\u001B[0;32m    769\u001B[0m             \u001B[1;32mreturn\u001B[0m \u001B[0mself\u001B[0m\u001B[1;33m.\u001B[0m\u001B[0m_value\u001B[0m\u001B[1;33m\u001B[0m\u001B[1;33m\u001B[0m\u001B[0m\n\u001B[0;32m    770\u001B[0m         \u001B[1;32melse\u001B[0m\u001B[1;33m:\u001B[0m\u001B[1;33m\u001B[0m\u001B[1;33m\u001B[0m\u001B[0m\n\u001B[1;32m--> 771\u001B[1;33m             \u001B[1;32mraise\u001B[0m \u001B[0mself\u001B[0m\u001B[1;33m.\u001B[0m\u001B[0m_value\u001B[0m\u001B[1;33m\u001B[0m\u001B[1;33m\u001B[0m\u001B[0m\n\u001B[0m\u001B[0;32m    772\u001B[0m \u001B[1;33m\u001B[0m\u001B[0m\n\u001B[0;32m    773\u001B[0m     \u001B[1;32mdef\u001B[0m \u001B[0m_set\u001B[0m\u001B[1;33m(\u001B[0m\u001B[0mself\u001B[0m\u001B[1;33m,\u001B[0m \u001B[0mi\u001B[0m\u001B[1;33m,\u001B[0m \u001B[0mobj\u001B[0m\u001B[1;33m)\u001B[0m\u001B[1;33m:\u001B[0m\u001B[1;33m\u001B[0m\u001B[1;33m\u001B[0m\u001B[0m\n",
      "\u001B[1;31mValueError\u001B[0m: `bins[0]` must be positive, when an integer"
     ]
    }
   ],
   "source": [
    "assets = get_weights_stocks(constituents, top_nassets, recalibrating_months, training_period, dates_recalibrating, data_inp, save=False)"
   ],
   "metadata": {
    "collapsed": false,
    "pycharm": {
     "name": "#%%\n"
    }
   }
  },
  {
   "cell_type": "code",
   "execution_count": null,
   "outputs": [],
   "source": [
    "assets"
   ],
   "metadata": {
    "collapsed": false,
    "pycharm": {
     "name": "#%%\n"
    }
   }
  },
  {
   "cell_type": "code",
   "execution_count": null,
   "outputs": [],
   "source": [
    "with open(f'NAZDAQ_RecalibPeriod_{int(recalibrating_months)}.pkl', 'wb') as file:\n",
    "    pickle.dump(assets, file)"
   ],
   "metadata": {
    "collapsed": false,
    "pycharm": {
     "name": "#%%\n"
    }
   }
  },
  {
   "cell_type": "code",
   "execution_count": null,
   "outputs": [],
   "source": [
    "with open(f'BSE_RecalibPeriod_{int(1)}.pkl', 'rb') as file:\n",
    "    assets = pickle.load(file)"
   ],
   "metadata": {
    "collapsed": false,
    "pycharm": {
     "name": "#%%\n"
    }
   }
  },
  {
   "cell_type": "code",
   "execution_count": null,
   "outputs": [],
   "source": [
    "# for date_i in range(len(dates_recalibrating) - (int(training_period/recalibrating_months) + 1)):\n",
    "#     print(f\"Training period begins: {dates_recalibrating[date_i]}\")\n",
    "#     print(f\"Training period ends: {dates_recalibrating[date_i + int(training_period/recalibrating_months)]}\")\n",
    "#     print(f\"Data used for training between {dates_recalibrating[date_i]} and {dates_recalibrating[date_i + int(training_period/recalibrating_months)-1]}\")\n",
    "#     print(f\"Testing period begins: {dates_recalibrating[date_i + int(training_period/recalibrating_months)]}\")\n",
    "#     print(f\"Testing period ends: {dates_recalibrating[date_i + int(training_period/recalibrating_months) + 1]}\")"
   ],
   "metadata": {
    "collapsed": false,
    "pycharm": {
     "name": "#%%\n"
    }
   }
  },
  {
   "cell_type": "code",
   "execution_count": null,
   "outputs": [],
   "source": [
    "rebalancing_months = 12\n",
    "dates_rebalancing = []\n",
    "assetsb = []\n",
    "for date_i in range(len(dates_recalibrating)-(int(training_period/recalibrating_months)+1)):\n",
    "    if (recalibrating_months*date_i)%rebalancing_months==1:\n",
    "        dates_rebalancing.append(dates_recalibrating[date_i + int(training_period/recalibrating_months)])\n",
    "        assetsb.append(assets[date_i])\n",
    "dates_rebalancing.append(pd.to_datetime(date.today()))"
   ],
   "metadata": {
    "collapsed": false,
    "pycharm": {
     "name": "#%%\n"
    }
   }
  },
  {
   "cell_type": "code",
   "execution_count": null,
   "outputs": [],
   "source": [
    "for date_i in range(len(dates_rebalancing)-1):\n",
    "    print(\"*\"*30)\n",
    "    print(f\"Testing period begins: {dates_rebalancing[date_i]}\")\n",
    "    print(\"Selected Assets\")\n",
    "    print(assetsb[date_i])\n",
    "    print(f\"Testing period ends: {dates_rebalancing[date_i + 1]}\")"
   ],
   "metadata": {
    "collapsed": false,
    "pycharm": {
     "name": "#%%\n"
    }
   }
  },
  {
   "cell_type": "code",
   "execution_count": null,
   "outputs": [],
   "source": [
    "inputs = []\n",
    "for date_i in range(len(dates_rebalancing)-1):\n",
    "    inputs.append([date_i, dates_rebalancing, data_inp, assetsb])\n",
    "try:\n",
    "    pool = multiprocessing.Pool(processes=7, maxtasksperchild=1)\n",
    "    results_backtest = pool.map(backtest_AM, inputs)\n",
    "finally:  # To make sure processes are closed in the end, even if errors happen\n",
    "    pool.close()\n",
    "    pool.join()\n",
    "\n",
    "results_final = pd.DataFrame()\n",
    "for tt in results_backtest:\n",
    "    results_final = pd.concat([results_final, tt], axis=0)\n"
   ],
   "metadata": {
    "collapsed": false,
    "pycharm": {
     "name": "#%%\n"
    }
   }
  },
  {
   "cell_type": "code",
   "execution_count": null,
   "outputs": [],
   "source": [
    "import yfinance as yf\n",
    "bench = yf.download(\"^BSESN\", start = '2011-01-31', end= str(date.today()))\n",
    "bench[\"Return\"] = np.log(bench[\"Close\"]/bench[\"Close\"].shift(1))"
   ],
   "metadata": {
    "collapsed": false,
    "pycharm": {
     "name": "#%%\n"
    }
   }
  },
  {
   "cell_type": "code",
   "execution_count": null,
   "outputs": [],
   "source": [
    "# bench = pd.DataFrame()\n",
    "# bench[\"Return\"] = data_inp[[f\"{ticker}Return\" for ticker in tickers]].mean(skipna=True, axis=1)\n",
    "# bench.set_index(data_inp[\"Date\"], inplace=True)\n",
    "temp_res = pd.concat([results_final.rename(columns={0:\"S_Return\"}),bench[\"Return\"]], join=\"inner\",axis = 1)\n",
    "temp_res['Market_Return'] = temp_res['Return'].expanding().sum()\n",
    "temp_res['Strategy_Return'] = temp_res['S_Return'].expanding().sum()\n",
    "temp_res['Portfolio Value'] = ((temp_res['Strategy_Return'] + 1) * 10000)\n",
    "temp_res = temp_res.reset_index().rename(columns={'index':\"Date\"})\n"
   ],
   "metadata": {
    "collapsed": false,
    "pycharm": {
     "name": "#%%\n"
    }
   }
  },
  {
   "cell_type": "code",
   "execution_count": null,
   "outputs": [],
   "source": [
    "plt.plot(temp_res['Date'], temp_res['Market_Return'], color='black', label='Market Returns')\n",
    "plt.plot(temp_res['Date'], temp_res['Strategy_Return'], color='blue', label='Strategy Returns')\n",
    "plt.title('Strategy Backtest')\n",
    "plt.legend(loc=0)\n",
    "plt.tight_layout()\n",
    "plt.show()"
   ],
   "metadata": {
    "collapsed": false,
    "pycharm": {
     "name": "#%%\n"
    }
   }
  },
  {
   "cell_type": "code",
   "execution_count": null,
   "outputs": [],
   "source": [
    "print(f\"Sortino: {backtest_sortino(temp_res,0,0)}\")\n",
    "print(f\"Sharpe: {backtest_sharpe(temp_res,0,0)}\")\n",
    "print(f\"Rolling Sortino: {backtest_rolling_sortino(temp_res,0,0)}\")\n",
    "print(f\"Rolling Sharpe: {backtest_rolling_sharpe(temp_res,0,0)}\")\n",
    "print(f\"Rolling CAGR: {backtest_rolling_cagr(temp_res,0,0)}\")\n",
    "print(f\"Rolling MaxDrawup/MaxDrawdown: {backtest_maxdrawup_by_maxdrawdown(temp_res,0,0)}\")\n",
    "print(f\"Rolling Outperformance: {backtest_outperformance(temp_res,0,0)}\")"
   ],
   "metadata": {
    "collapsed": false,
    "pycharm": {
     "name": "#%%\n"
    }
   }
  },
  {
   "cell_type": "code",
   "execution_count": null,
   "metadata": {
    "collapsed": true
   },
   "outputs": [],
   "source": []
  }
 ],
 "metadata": {
  "kernelspec": {
   "display_name": "Python 3",
   "language": "python",
   "name": "python3"
  },
  "language_info": {
   "codemirror_mode": {
    "name": "ipython",
    "version": 2
   },
   "file_extension": ".py",
   "mimetype": "text/x-python",
   "name": "python",
   "nbconvert_exporter": "python",
   "pygments_lexer": "ipython2",
   "version": "2.7.6"
  }
 },
 "nbformat": 4,
 "nbformat_minor": 0
}