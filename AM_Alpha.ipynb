{
 "cells": [
  {
   "cell_type": "code",
   "execution_count": 1,
   "outputs": [],
   "source": [
    "%matplotlib inline\n",
    "import numpy as np\n",
    "import pandas as pd\n",
    "import yfinance as yf\n",
    "from helper_functions import *\n",
    "from datetime import date, datetime\n",
    "\n",
    "import matplotlib.pyplot as plt\n",
    "plt.rcParams[\"figure.figsize\"] = (15,5)\n",
    "plt.rcParams['axes.grid'] = False\n",
    "import seaborn as sns\n",
    "sns.set_style(\"whitegrid\", {'axes.grid' : False})\n",
    "import warnings\n",
    "warnings.filterwarnings('ignore')\n",
    "import math\n",
    "\n",
    "from pandas.plotting import register_matplotlib_converters\n",
    "register_matplotlib_converters()\n",
    "import yfinance as yf\n",
    "from datetime import timedelta\n",
    "from dateutil.relativedelta import relativedelta\n",
    "from sklearn.metrics import normalized_mutual_info_score\n",
    "from MCMC.MCMC import MCMC\n",
    "\n",
    "import eikon as ek\n",
    "ek.set_app_key('9a249e0411184cf49e553b61a6e76c52d295ec17')"
   ],
   "metadata": {
    "collapsed": false,
    "pycharm": {
     "name": "#%%\n"
    }
   }
  },
  {
   "cell_type": "code",
   "execution_count": 2,
   "outputs": [],
   "source": [
    "%load_ext autoreload\n",
    "%autoreload 2\n"
   ],
   "metadata": {
    "collapsed": false,
    "pycharm": {
     "name": "#%%\n"
    }
   }
  },
  {
   "cell_type": "code",
   "execution_count": 3,
   "outputs": [],
   "source": [
    "#tickers = niftydata()\n",
    "index = \".BSESN\"\n",
    "constituents = get_constituents(index)\n",
    "constituents_all = []\n",
    "for i in range(len(constituents)):\n",
    "    constituents_all = constituents_all+constituents.iloc[i][0]\n",
    "tickers = list(set(constituents_all))\n",
    "tickers = [ticker[:-3] for ticker in tickers ]\n",
    "#Restricted Stock\n",
    "tickers.remove('AXBK')"
   ],
   "metadata": {
    "collapsed": false,
    "pycharm": {
     "name": "#%%\n"
    }
   }
  },
  {
   "cell_type": "code",
   "execution_count": 4,
   "outputs": [],
   "source": [
    "recalibrating_months = 1\n",
    "top_nassets = 10\n",
    "training_period = 24 #24/48/96\n",
    "dates_recalibrating = valid_dates(pd.date_range(start=\"2009-01-01\", end=\"2024-06-15\", freq=f'{recalibrating_months}M'))\n",
    "data_inp = prepare_portfolio_data(tickers, recalibrating_months)"
   ],
   "metadata": {
    "collapsed": false,
    "pycharm": {
     "name": "#%%\n"
    }
   }
  },
  {
   "cell_type": "code",
   "execution_count": 5,
   "outputs": [],
   "source": [
    "with open(f'BSE_RecalibPeriod_{int(1)}.pkl', 'rb') as file:\n",
    "    assets = pickle.load(file)"
   ],
   "metadata": {
    "collapsed": false,
    "pycharm": {
     "name": "#%%\n"
    }
   }
  },
  {
   "cell_type": "code",
   "execution_count": 6,
   "outputs": [],
   "source": [
    "from helper_functions import get_data\n",
    "from helper_functions import backtest_live, add_fisher\n",
    "\n"
   ],
   "metadata": {
    "collapsed": false,
    "pycharm": {
     "name": "#%%\n"
    }
   }
  },
  {
   "cell_type": "code",
   "execution_count": 7,
   "outputs": [
    {
     "name": "stdout",
     "output_type": "stream",
     "text": [
      "[*********************100%***********************]  1 of 1 completed\n"
     ]
    }
   ],
   "source": [
    "ticker = \"^NSEI\"\n",
    "number_of_optimization_periods = 1\n",
    "recalib_months = 3\n",
    "num_strategies = 5\n",
    "metric = 'outperformance'\n",
    "temp_og = get_data(ticker, \"yfinance\")\n",
    "dates = valid_dates(pd.date_range(start=str(temp_og.iloc[1]['Date'] + timedelta(days=365))[:10],\n",
    "                                                          end=\"2024-06-15\", freq=f'3M'))\n",
    "\n",
    "with open(f'TickerResults/{ticker}/SelectedStrategies/{ticker}_OptPeriods_{number_of_optimization_periods}_Selected_Strategies_ss.pkl', 'rb') as file:\n",
    "    ss_test_imp = pickle.load(file)\n",
    "with open(f'TickerResults/{ticker}/SelectedStrategies/{ticker}_OptPeriods_{number_of_optimization_periods}_Selected_Strategies_res.pkl', 'rb') as file:\n",
    "    res_test_imp = pickle.load(file)\n",
    "\n",
    "res_test = []\n",
    "ss_test = []\n",
    "datesb = []\n",
    "for date_i in range(len(dates) - (int(24 / 3) + 1)):\n",
    "    if (3 * date_i) % recalib_months == 0:\n",
    "        datesb.append(dates[date_i + int(24 / 3)])\n",
    "        ss_test.append(ss_test_imp[date_i])\n",
    "        res_test.append(res_test_imp[date_i])\n",
    "\n",
    "datesb.append(date.today()+timedelta(1))\n",
    "\n",
    "with open(f'TickerResults/{ticker}/weights/Results_Ticker{ticker}_LP{number_of_optimization_periods}_Recal{recalib_months}_NS{num_strategies}_M{metric}.pkl', 'rb') as file:\n",
    "    weights = pickle.load(file)\n",
    "\n",
    "inputs = []\n",
    "for date_i in range(len(datesb)-1):\n",
    "    inputs.append([date_i, datesb, temp_og, ss_test, res_test, num_strategies, weights[date_i], recalib_months,dates])\n",
    "\n",
    "try:\n",
    "    pool = multiprocessing.Pool(processes=7, maxtasksperchild=1)\n",
    "    results_multi = pool.map(backtest_live, inputs)\n",
    "finally: # To make sure processes are closed in the end, even if errors happen\n",
    "    pool.close()\n",
    "    pool.join()\n",
    "\n",
    "results_final = pd.DataFrame()\n",
    "for tt in results_multi:\n",
    "    results_final = pd.concat([results_final, tt[0]], axis=0)\n",
    "\n",
    "temp_res = results_final\n",
    "temp_res['Return'] = np.log(temp_res['Close'] / temp_res['Close'].shift(1))\n",
    "temp_res['Market_Return'] = temp_res['Return'].expanding().sum()\n",
    "temp_res['Strategy_Return'] = temp_res['S_Return'].expanding().sum()\n",
    "temp_res['Portfolio Value'] = ((temp_res['Strategy_Return'] + 1) * 10000)\n",
    "temp_res.reset_index(inplace=True)\n",
    "temp_res_nifty = temp_res\n",
    "temp_res_nifty.columns = [\"Date\"]+[column+\"_nifty\" for column in temp_res_nifty.columns if column!='Date']\n"
   ],
   "metadata": {
    "collapsed": false,
    "pycharm": {
     "name": "#%%\n"
    }
   }
  },
  {
   "cell_type": "code",
   "execution_count": 8,
   "outputs": [
    {
     "name": "stdout",
     "output_type": "stream",
     "text": [
      "[*********************100%***********************]  1 of 1 completed\n"
     ]
    }
   ],
   "source": [
    "ticker = \"GOLDBEES.NS\"\n",
    "number_of_optimization_periods = 2\n",
    "recalib_months = 6\n",
    "num_strategies = 1\n",
    "metric = 'outperformance'\n",
    "temp_og = get_data(ticker, \"yfinance\")\n",
    "dates = valid_dates(pd.date_range(start=str(temp_og.iloc[1]['Date'] + timedelta(days=365))[:10],\n",
    "                                                          end=\"2024-06-15\", freq=f'3M'))\n",
    "\n",
    "with open(f'TickerResults/{ticker}/SelectedStrategies/{ticker}_OptPeriods_{number_of_optimization_periods}_Selected_Strategies_ss.pkl', 'rb') as file:\n",
    "    ss_test_imp = pickle.load(file)\n",
    "with open(f'TickerResults/{ticker}/SelectedStrategies/{ticker}_OptPeriods_{number_of_optimization_periods}_Selected_Strategies_res.pkl', 'rb') as file:\n",
    "    res_test_imp = pickle.load(file)\n",
    "\n",
    "res_test = []\n",
    "ss_test = []\n",
    "datesb = []\n",
    "for date_i in range(len(dates) - (int(24 / 3) + 1)):\n",
    "    if (3 * date_i) % recalib_months == 0:\n",
    "        datesb.append(dates[date_i + int(24 / 3)])\n",
    "        ss_test.append(ss_test_imp[date_i])\n",
    "        res_test.append(res_test_imp[date_i])\n",
    "\n",
    "datesb.append(date.today()+timedelta(1))\n",
    "\n",
    "with open(f'TickerResults/{ticker}/weights/Results_Ticker{ticker}_LP{number_of_optimization_periods}_Recal{recalib_months}_NS{num_strategies}_M{metric}.pkl', 'rb') as file:\n",
    "    weights = pickle.load(file)\n",
    "\n",
    "inputs = []\n",
    "for date_i in range(len(datesb)-1):\n",
    "    inputs.append([date_i, datesb, temp_og, ss_test, res_test, num_strategies, weights[date_i], recalib_months,dates])\n",
    "\n",
    "try:\n",
    "    pool = multiprocessing.Pool(processes=7, maxtasksperchild=1)\n",
    "    results_multi = pool.map(backtest_live, inputs)\n",
    "finally: # To make sure processes are closed in the end, even if errors happen\n",
    "    pool.close()\n",
    "    pool.join()\n",
    "\n",
    "results_final = pd.DataFrame()\n",
    "for tt in results_multi:\n",
    "    results_final = pd.concat([results_final, tt[0]], axis=0)\n",
    "\n",
    "temp_res = results_final\n",
    "temp_res['Return'] = np.log(temp_res['Close'] / temp_res['Close'].shift(1))\n",
    "temp_res['Market_Return'] = temp_res['Return'].expanding().sum()\n",
    "temp_res['Strategy_Return'] = temp_res['S_Return'].expanding().sum()\n",
    "temp_res['Portfolio Value'] = ((temp_res['Strategy_Return'] + 1) * 10000)\n",
    "temp_res.reset_index(inplace=True)\n",
    "temp_res_gold = temp_res\n",
    "temp_res_gold.columns = [\"Date\"]+ [column+\"_gold\" for column in temp_res_gold.columns if column!='Date']"
   ],
   "metadata": {
    "collapsed": false,
    "pycharm": {
     "name": "#%%\n"
    }
   }
  },
  {
   "cell_type": "code",
   "execution_count": 9,
   "outputs": [],
   "source": [
    "data_inp_backtest = pd.concat([data_inp.set_index('Date'), temp_res_nifty.set_index('Date'), temp_res_gold.set_index('Date')], axis = 1, join = 'inner').reset_index()"
   ],
   "metadata": {
    "collapsed": false,
    "pycharm": {
     "name": "#%%\n"
    }
   }
  },
  {
   "cell_type": "code",
   "execution_count": 10,
   "outputs": [
    {
     "data": {
      "text/plain": "<AxesSubplot:xlabel='Date'>"
     },
     "execution_count": 10,
     "metadata": {},
     "output_type": "execute_result"
    },
    {
     "data": {
      "text/plain": "<Figure size 1080x360 with 1 Axes>",
      "image/png": "[encoded data removed]"
     },
     "metadata": {},
     "output_type": "display_data"
    }
   ],
   "source": [
    "data_inp_backtest[[\"signal_nifty\",\"Market_Return_nifty\", \"Strategy_Return_nifty\", \"Date\"]].plot(x=\"Date\")"
   ],
   "metadata": {
    "collapsed": false,
    "pycharm": {
     "name": "#%%\n"
    }
   }
  },
  {
   "cell_type": "code",
   "execution_count": 11,
   "outputs": [],
   "source": [
    "rebalancing_months = 13\n",
    "dates_rebalancing = []\n",
    "assetsb = []\n",
    "for date_i in range(len(dates_recalibrating)-(int(training_period/recalibrating_months)+1)):\n",
    "    if ((recalibrating_months*date_i)%rebalancing_months==0) & (dates_recalibrating[date_i + int(training_period/recalibrating_months)]>=data_inp_backtest[\"Date\"][0]):\n",
    "        dates_rebalancing.append(dates_recalibrating[date_i + int(training_period/recalibrating_months)])\n",
    "        assetsb.append(assets[date_i])\n",
    "dates_rebalancing.append(date.today()+timedelta(1))"
   ],
   "metadata": {
    "collapsed": false,
    "pycharm": {
     "name": "#%%\n"
    }
   }
  },
  {
   "cell_type": "code",
   "execution_count": 73,
   "outputs": [],
   "source": [
    "results_final,unit_ticker, unit_gold = backtest_Alpha_AM(dates_rebalancing, data_inp_backtest, assetsb)"
   ],
   "metadata": {
    "collapsed": false,
    "pycharm": {
     "name": "#%%\n"
    }
   }
  },
  {
   "cell_type": "code",
   "execution_count": 74,
   "outputs": [
    {
     "name": "stdout",
     "output_type": "stream",
     "text": [
      "[*********************100%***********************]  1 of 1 completed\n"
     ]
    }
   ],
   "source": [
    "import yfinance as yf\n",
    "bench = yf.download(\"^BSESN\", start = '2007-01-01', end= str(date.today()))\n",
    "bench = bench.loc[bench[\"Close\"]>1]\n",
    "bench[\"Return\"] = np.log(bench[\"Close\"]/bench[\"Close\"].shift(1))"
   ],
   "metadata": {
    "collapsed": false,
    "pycharm": {
     "name": "#%%\n"
    }
   }
  },
  {
   "cell_type": "code",
   "execution_count": 75,
   "outputs": [],
   "source": [
    "# bench = pd.DataFrame()\n",
    "# bench[\"Return\"] = data_inp[[f\"{ticker}Return\" for ticker in tickers]].mean(skipna=True, axis=1)\n",
    "# bench.set_index(data_inp[\"Date\"], inplace=True)\n",
    "results_final[\"S_Return\"] = pd.DataFrame(np.log(results_final[\"Pvalue\"] / results_final[\"Pvalue\"].shift(1)))\n",
    "temp_res = pd.concat([results_final,bench[\"Return\"]], join=\"inner\",axis = 1)\n",
    "temp_res['Market_Return'] = np.exp(temp_res['Return'].expanding().sum())-1\n",
    "temp_res['Strategy_Return'] = np.exp(temp_res['S_Return'].expanding().sum())-1\n",
    "temp_res['Portfolio Value'] = ((temp_res['Strategy_Return'] + 1) * 1405000)\n",
    "temp_res = temp_res.reset_index().rename(columns={'index':\"Date\"})"
   ],
   "metadata": {
    "collapsed": false,
    "pycharm": {
     "name": "#%%\n"
    }
   }
  },
  {
   "cell_type": "code",
   "execution_count": 76,
   "outputs": [
    {
     "data": {
      "text/plain": "           Date        Pvalue  S_Return    Return  Market_Return  \\\n0    2012-02-29  1.516361e+06       NaN  0.001215       0.001216   \n1    2012-03-01  1.516722e+06  0.000238 -0.009549      -0.008299   \n2    2012-03-02  1.517083e+06  0.000238  0.003000      -0.005319   \n3    2012-03-05  1.517444e+06  0.000238 -0.015654      -0.020769   \n4    2012-03-06  1.517806e+06  0.000238 -0.010979      -0.031461   \n...         ...           ...       ...       ...            ...   \n2258 2021-07-30  9.828891e+06  0.001990 -0.001259       1.761261   \n2259 2021-08-02  9.831433e+06  0.000259  0.006894       1.780363   \n2260 2021-08-03  9.972410e+06  0.014238  0.016348       1.826189   \n2261 2021-08-04  1.000816e+07  0.003578  0.010101       1.854880   \n2262 2021-08-05  1.000812e+07 -0.000003  0.002261       1.861343   \n\n      Strategy_Return  Portfolio Value  \n0                 NaN              NaN  \n1            0.000238     1.405335e+06  \n2            0.000476     1.405669e+06  \n3            0.000714     1.406004e+06  \n4            0.000953     1.406339e+06  \n...               ...              ...  \n2258         5.359757     8.935459e+06  \n2259         5.361402     8.937770e+06  \n2260         5.452621     9.065933e+06  \n2261         5.475750     9.098429e+06  \n2262         5.475729     9.098399e+06  \n\n[2263 rows x 7 columns]",
      "text/html": "<div>\n<style scoped>\n    .dataframe tbody tr th:only-of-type {\n        vertical-align: middle;\n    }\n\n    .dataframe tbody tr th {\n        vertical-align: top;\n    }\n\n    .dataframe thead th {\n        text-align: right;\n    }\n</style>\n<table border=\"1\" class=\"dataframe\">\n  <thead>\n    <tr style=\"text-align: right;\">\n      <th></th>\n      <th>Date</th>\n      <th>Pvalue</th>\n      <th>S_Return</th>\n      <th>Return</th>\n      <th>Market_Return</th>\n      <th>Strategy_Return</th>\n      <th>Portfolio Value</th>\n    </tr>\n  </thead>\n  <tbody>\n    <tr>\n      <th>0</th>\n      <td>2012-02-29</td>\n      <td>1.516361e+06</td>\n      <td>NaN</td>\n      <td>0.001215</td>\n      <td>0.001216</td>\n      <td>NaN</td>\n      <td>NaN</td>\n    </tr>\n    <tr>\n      <th>1</th>\n      <td>2012-03-01</td>\n      <td>1.516722e+06</td>\n      <td>0.000238</td>\n      <td>-0.009549</td>\n      <td>-0.008299</td>\n      <td>0.000238</td>\n      <td>1.405335e+06</td>\n    </tr>\n    <tr>\n      <th>2</th>\n      <td>2012-03-02</td>\n      <td>1.517083e+06</td>\n      <td>0.000238</td>\n      <td>0.003000</td>\n      <td>-0.005319</td>\n      <td>0.000476</td>\n      <td>1.405669e+06</td>\n    </tr>\n    <tr>\n      <th>3</th>\n      <td>2012-03-05</td>\n      <td>1.517444e+06</td>\n      <td>0.000238</td>\n      <td>-0.015654</td>\n      <td>-0.020769</td>\n      <td>0.000714</td>\n      <td>1.406004e+06</td>\n    </tr>\n    <tr>\n      <th>4</th>\n      <td>2012-03-06</td>\n      <td>1.517806e+06</td>\n      <td>0.000238</td>\n      <td>-0.010979</td>\n      <td>-0.031461</td>\n      <td>0.000953</td>\n      <td>1.406339e+06</td>\n    </tr>\n    <tr>\n      <th>...</th>\n      <td>...</td>\n      <td>...</td>\n      <td>...</td>\n      <td>...</td>\n      <td>...</td>\n      <td>...</td>\n      <td>...</td>\n    </tr>\n    <tr>\n      <th>2258</th>\n      <td>2021-07-30</td>\n      <td>9.828891e+06</td>\n      <td>0.001990</td>\n      <td>-0.001259</td>\n      <td>1.761261</td>\n      <td>5.359757</td>\n      <td>8.935459e+06</td>\n    </tr>\n    <tr>\n      <th>2259</th>\n      <td>2021-08-02</td>\n      <td>9.831433e+06</td>\n      <td>0.000259</td>\n      <td>0.006894</td>\n      <td>1.780363</td>\n      <td>5.361402</td>\n      <td>8.937770e+06</td>\n    </tr>\n    <tr>\n      <th>2260</th>\n      <td>2021-08-03</td>\n      <td>9.972410e+06</td>\n      <td>0.014238</td>\n      <td>0.016348</td>\n      <td>1.826189</td>\n      <td>5.452621</td>\n      <td>9.065933e+06</td>\n    </tr>\n    <tr>\n      <th>2261</th>\n      <td>2021-08-04</td>\n      <td>1.000816e+07</td>\n      <td>0.003578</td>\n      <td>0.010101</td>\n      <td>1.854880</td>\n      <td>5.475750</td>\n      <td>9.098429e+06</td>\n    </tr>\n    <tr>\n      <th>2262</th>\n      <td>2021-08-05</td>\n      <td>1.000812e+07</td>\n      <td>-0.000003</td>\n      <td>0.002261</td>\n      <td>1.861343</td>\n      <td>5.475729</td>\n      <td>9.098399e+06</td>\n    </tr>\n  </tbody>\n</table>\n<p>2263 rows × 7 columns</p>\n</div>"
     },
     "execution_count": 76,
     "metadata": {},
     "output_type": "execute_result"
    }
   ],
   "source": [
    "temp_res"
   ],
   "metadata": {
    "collapsed": false,
    "pycharm": {
     "name": "#%%\n"
    }
   }
  },
  {
   "cell_type": "code",
   "execution_count": null,
   "outputs": [],
   "source": [
    "np.exp(np.log(temp_res.iloc[-1][\"Pvalue\"]/temp_res.iloc[0][\"Pvalue\"]))-1"
   ],
   "metadata": {
    "collapsed": false,
    "pycharm": {
     "name": "#%%\n"
    }
   }
  },
  {
   "cell_type": "code",
   "execution_count": null,
   "outputs": [],
   "source": [
    "plt.plot(temp_res['Date'], temp_res['Market_Return'], color='black', label='Market Returns')\n",
    "plt.plot(temp_res['Date'], temp_res['Strategy_Return'], color='blue', label='Strategy Returns')\n",
    "plt.title('Strategy Backtest')\n",
    "plt.legend(loc=0)\n",
    "plt.tight_layout()\n",
    "plt.show()"
   ],
   "metadata": {
    "collapsed": false,
    "pycharm": {
     "name": "#%%\n"
    }
   }
  },
  {
   "cell_type": "code",
   "execution_count": null,
   "outputs": [],
   "source": [
    "portfolio = 0\n",
    "for ticker in unit_ticker.keys():\n",
    "    price = data_inp_backtest.iloc[-1][ticker]\n",
    "    units = unit_ticker[ticker]\n",
    "    portfolio += price*units"
   ],
   "metadata": {
    "collapsed": false,
    "pycharm": {
     "name": "#%%\n"
    }
   }
  },
  {
   "cell_type": "code",
   "execution_count": null,
   "outputs": [],
   "source": [
    "portfolio\n"
   ],
   "metadata": {
    "collapsed": false,
    "pycharm": {
     "name": "#%%\n"
    }
   }
  },
  {
   "cell_type": "code",
   "execution_count": null,
   "outputs": [],
   "source": [
    "print(f\"Sortino: {backtest_sortino(temp_res,0,0)}\")\n",
    "print(f\"Sharpe: {backtest_sharpe(temp_res,0,0)}\")\n",
    "print(f\"Rolling Sortino: {backtest_rolling_sortino(temp_res,0,0)}\")\n",
    "print(f\"Rolling Sharpe: {backtest_rolling_sharpe(temp_res,0,0)}\")\n",
    "print(f\"Rolling CAGR: {backtest_rolling_cagr(temp_res,0,0)}\")\n",
    "print(f\"Rolling MaxDrawup/MaxDrawdown: {backtest_maxdrawup_by_maxdrawdown(temp_res,0,0)}\")\n",
    "print(f\"Rolling Outperformance: {backtest_outperformance(temp_res,0,0)}\")"
   ],
   "metadata": {
    "collapsed": false,
    "pycharm": {
     "name": "#%%\n"
    }
   }
  },
  {
   "cell_type": "code",
   "execution_count": null,
   "outputs": [],
   "source": [],
   "metadata": {
    "collapsed": false,
    "pycharm": {
     "name": "#%%\n"
    }
   }
  },
  {
   "cell_type": "code",
   "execution_count": null,
   "outputs": [],
   "source": [],
   "metadata": {
    "collapsed": false,
    "pycharm": {
     "name": "#%%\n"
    }
   }
  },
  {
   "cell_type": "code",
   "execution_count": null,
   "outputs": [],
   "source": [],
   "metadata": {
    "collapsed": false,
    "pycharm": {
     "name": "#%%\n"
    }
   }
  },
  {
   "cell_type": "code",
   "execution_count": null,
   "outputs": [],
   "source": [
    "test = pd.DataFrame()\n",
    "test1 = get_data(\"GOLDBEES.NS\", \"yfinance\")\n",
    "test[\"yfinance\"] = test1[[\"Close\", \"Date\"]].set_index(\"Date\")"
   ],
   "metadata": {
    "collapsed": false,
    "pycharm": {
     "name": "#%%\n"
    }
   }
  },
  {
   "cell_type": "code",
   "execution_count": null,
   "outputs": [],
   "source": [
    "test2 = get_data(\"GBES\", \"investpy\")\n",
    "test[\"investpy\"] = test2[[\"Close\", \"Date\"]].set_index(\"Date\")"
   ],
   "metadata": {
    "collapsed": false,
    "pycharm": {
     "name": "#%%\n"
    }
   }
  },
  {
   "cell_type": "code",
   "execution_count": null,
   "outputs": [],
   "source": [],
   "metadata": {
    "collapsed": false,
    "pycharm": {
     "name": "#%%\n"
    }
   }
  },
  {
   "cell_type": "code",
   "execution_count": null,
   "outputs": [],
   "source": [
    "test.plot()"
   ],
   "metadata": {
    "collapsed": false,
    "pycharm": {
     "name": "#%%\n"
    }
   }
  },
  {
   "cell_type": "code",
   "execution_count": null,
   "outputs": [],
   "source": [],
   "metadata": {
    "collapsed": false,
    "pycharm": {
     "name": "#%%\n"
    }
   }
  }
 ],
 "metadata": {
  "kernelspec": {
   "display_name": "Python 3",
   "language": "python",
   "name": "python3"
  },
  "language_info": {
   "codemirror_mode": {
    "name": "ipython",
    "version": 2
   },
   "file_extension": ".py",
   "mimetype": "text/x-python",
   "name": "python",
   "nbconvert_exporter": "python",
   "pygments_lexer": "ipython2",
   "version": "2.7.6"
  }
 },
 "nbformat": 4,
 "nbformat_minor": 0
}